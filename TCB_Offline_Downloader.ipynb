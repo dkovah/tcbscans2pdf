{
  "nbformat": 4,
  "nbformat_minor": 0,
  "metadata": {
    "colab": {
      "provenance": [],
      "authorship_tag": "ABX9TyNlghv576YK/rzf3FAgo35a",
      "include_colab_link": true
    },
    "kernelspec": {
      "name": "python3",
      "display_name": "Python 3"
    },
    "language_info": {
      "name": "python"
    }
  },
  "cells": [
    {
      "cell_type": "markdown",
      "metadata": {
        "id": "view-in-github",
        "colab_type": "text"
      },
      "source": [
        "<a href=\"https://colab.research.google.com/github/dkovah/tcbscans2pdf/blob/main/TCB_Offline_Downloader.ipynb\" target=\"_parent\"><img src=\"https://colab.research.google.com/assets/colab-badge.svg\" alt=\"Open In Colab\"/></a>"
      ]
    },
    {
      "cell_type": "markdown",
      "source": [
        "1- Import stuff"
      ],
      "metadata": {
        "id": "hRLKElqDBJXO"
      }
    },
    {
      "cell_type": "code",
      "execution_count": 1,
      "metadata": {
        "id": "Z8psVDx-A3qC"
      },
      "outputs": [],
      "source": [
        "from bs4 import BeautifulSoup\n",
        "from PIL import Image\n",
        "import requests\n",
        "from io import BytesIO\n",
        "import re\n",
        "from zipfile import ZipFile"
      ]
    },
    {
      "cell_type": "markdown",
      "source": [
        "2- Edit download parameters"
      ],
      "metadata": {
        "id": "LMyv_FQeBHTf"
      }
    },
    {
      "cell_type": "code",
      "source": [
        "# Manga URL on TCB website\n",
        "base_url = 'https://tcbscans.com/mangas/5/one-piece'\n",
        "\n",
        "# First chapter to download\n",
        "first = 1093\n",
        "\n",
        "# Last chapter to download\n",
        "last = 1095\n",
        "\n",
        "# If you are running the notebook locally, set the path to save the pdf files.\n",
        "# Leave it blank if you are running this on Colab\n",
        "save_path = \"\""
      ],
      "metadata": {
        "id": "VwSfqF2TDqQ3"
      },
      "execution_count": 2,
      "outputs": []
    },
    {
      "cell_type": "markdown",
      "source": [
        "3- Fetch chapter links"
      ],
      "metadata": {
        "id": "xlRdTJWZMluA"
      }
    },
    {
      "cell_type": "code",
      "source": [
        "response = requests.get('https://tcbscans.com/mangas/5/one-piece')"
      ],
      "metadata": {
        "id": "RgWAnfWSJsmH"
      },
      "execution_count": 3,
      "outputs": []
    },
    {
      "cell_type": "markdown",
      "source": [
        "4- Parse chapter links"
      ],
      "metadata": {
        "id": "7LPfQffQMrFQ"
      }
    },
    {
      "cell_type": "code",
      "source": [
        "manga_name = base_url.split(\"/\")[-1]\n",
        "soup = BeautifulSoup(response.content, 'html.parser')\n",
        "anchors = soup.findAll('a', { 'class': 'block border border-border bg-card mb-3 p-3 rounded'})\n",
        "numbers = [i for i in range(first, last + 1)]\n",
        "\n",
        "def select_anchors(anchor):\n",
        "  parts = anchor.attrs[\"href\"].split(\"/\")[-1].split('-')\n",
        "  chapter_number = parts[-3] if parts[-2] == \"review\" else parts[-1]\n",
        "  if int(chapter_number) in numbers:\n",
        "    return anchor.attrs[\"href\"]\n",
        "\n",
        "def get_link(anchor):\n",
        "  return \"https://tcbscans.com\" + anchor.attrs[\"href\"]\n",
        "\n",
        "selected_anchors = list(filter(select_anchors, anchors))\n",
        "selected_links = list(map(get_link, selected_anchors))"
      ],
      "metadata": {
        "id": "HFCh5nDkBIfe"
      },
      "execution_count": 4,
      "outputs": []
    },
    {
      "cell_type": "markdown",
      "source": [
        "5- Fetch chapter data"
      ],
      "metadata": {
        "id": "AljYvRhYNV8Y"
      }
    },
    {
      "cell_type": "code",
      "source": [
        "chapter_list = []\n",
        "for link in selected_links:\n",
        "  response = requests.get(link)\n",
        "  soup = BeautifulSoup(response.content, 'html.parser')\n",
        "  pictures = soup.findAll('img', alt=re.compile(r'Page'))\n",
        "  pictures = list(map(lambda p : p.attrs[\"src\"], pictures))\n",
        "  chapter_list.append(pictures)\n",
        "chapter_list.reverse()"
      ],
      "metadata": {
        "id": "FdNnBF-kDUXd"
      },
      "execution_count": 5,
      "outputs": []
    },
    {
      "cell_type": "markdown",
      "source": [
        "6- Fetch images and generate PDF (if it fails, try again)"
      ],
      "metadata": {
        "id": "zgOi2YQhdbcd"
      }
    },
    {
      "cell_type": "code",
      "source": [
        "for index, chapter in enumerate(chapter_list):\n",
        "  image_list = []\n",
        "  for image_url in chapter:\n",
        "    response = requests.get(image_url)\n",
        "    png = Image.open(BytesIO(response.content))\n",
        "    img = Image.new(\"RGB\", png.size, (255, 255, 255))\n",
        "    img.paste(png)\n",
        "    image_list.append(img)\n",
        "  filename = save_path + str(numbers[index]) + \".pdf\"\n",
        "  image_list[0].save(filename, \"PDF\" ,resolution=100.0, save_all=True, append_images=image_list[1:])"
      ],
      "metadata": {
        "id": "bxK_WRSxOi3g"
      },
      "execution_count": 7,
      "outputs": []
    },
    {
      "cell_type": "markdown",
      "source": [
        "7- If you are running this locally, PDF files should be on the specified path, else they should available to download on the \"files\" tab at the left"
      ],
      "metadata": {
        "id": "7y59Q4sCdrEt"
      }
    },
    {
      "cell_type": "markdown",
      "source": [
        "8- (Optional) If you are using Colab, zip all chapters for an easier download"
      ],
      "metadata": {
        "id": "TUnj1i7Lf9lt"
      }
    },
    {
      "cell_type": "code",
      "source": [
        "with ZipFile('chapters.zip', 'w') as myzip:\n",
        "    for n in numbers:\n",
        "      myzip.write(str(n)+'.pdf')"
      ],
      "metadata": {
        "id": "HtEi-xi7faZt"
      },
      "execution_count": 8,
      "outputs": []
    }
  ]
}
